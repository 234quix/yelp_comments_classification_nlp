{
 "cells": [
  {
   "cell_type": "code",
   "execution_count": 1,
   "metadata": {},
   "outputs": [
    {
     "name": "stderr",
     "output_type": "stream",
     "text": [
      "Using TensorFlow backend.\n"
     ]
    }
   ],
   "source": [
    "from keras.preprocessing.text import one_hot\n",
    "from keras.preprocessing.sequence import pad_sequences\n",
    "from keras.models import Sequential\n",
    "from keras.layers import Dense\n",
    "from keras.layers import Flatten\n",
    "from keras.layers.embeddings import Embedding"
   ]
  },
  {
   "cell_type": "code",
   "execution_count": 8,
   "metadata": {
    "collapsed": true
   },
   "outputs": [],
   "source": [
    "# define documents\n",
    "docs = ['Well done!',\n",
    "\t\t'Good work',\n",
    "\t\t'Great effort',\n",
    "\t\t'nice work',\n",
    "\t\t'Excellent!',\n",
    "\t\t'Weak',\n",
    "\t\t'Poor effort!',\n",
    "\t\t'not good',\n",
    "\t\t'poor work',\n",
    "\t\t'Could have done better.']\n",
    "# define class labels\n",
    "labels = [1,1,1,1,1,0,0,0,0,0]"
   ]
  },
  {
   "cell_type": "code",
   "execution_count": 9,
   "metadata": {},
   "outputs": [
    {
     "name": "stdout",
     "output_type": "stream",
     "text": [
      "[[6, 26], [20, 39], [5, 2], [22, 39], [45], [9], [49, 2], [35, 20], [49, 39], [25, 43, 26, 29]]\n"
     ]
    }
   ],
   "source": [
    "vocab_size = 50\n",
    "encoded_docs = [one_hot(d, vocab_size) for d in docs]\n",
    "print(encoded_docs)"
   ]
  },
  {
   "cell_type": "code",
   "execution_count": 10,
   "metadata": {},
   "outputs": [
    {
     "name": "stdout",
     "output_type": "stream",
     "text": [
      "[[ 6 26  0  0]\n",
      " [20 39  0  0]\n",
      " [ 5  2  0  0]\n",
      " [22 39  0  0]\n",
      " [45  0  0  0]\n",
      " [ 9  0  0  0]\n",
      " [49  2  0  0]\n",
      " [35 20  0  0]\n",
      " [49 39  0  0]\n",
      " [25 43 26 29]]\n"
     ]
    }
   ],
   "source": [
    "# pad documents to a max length of 4 words\n",
    "max_length = 4\n",
    "padded_docs = pad_sequences(encoded_docs, maxlen=max_length, padding='post')\n",
    "print(padded_docs)"
   ]
  },
  {
   "cell_type": "code",
   "execution_count": 11,
   "metadata": {},
   "outputs": [
    {
     "name": "stdout",
     "output_type": "stream",
     "text": [
      "_________________________________________________________________\n",
      "Layer (type)                 Output Shape              Param #   \n",
      "=================================================================\n",
      "embedding_1 (Embedding)      (None, 4, 8)              400       \n",
      "_________________________________________________________________\n",
      "flatten_1 (Flatten)          (None, 32)                0         \n",
      "_________________________________________________________________\n",
      "dense_1 (Dense)              (None, 1)                 33        \n",
      "=================================================================\n",
      "Total params: 433\n",
      "Trainable params: 433\n",
      "Non-trainable params: 0\n",
      "_________________________________________________________________\n",
      "None\n"
     ]
    }
   ],
   "source": [
    "model = Sequential()\n",
    "model.add(Embedding(vocab_size, 8, input_length=max_length))\n",
    "model.add(Flatten())\n",
    "model.add(Dense(1, activation='sigmoid'))\n",
    "model.compile(optimizer='adam', loss='binary_crossentropy', metrics=['acc'])\n",
    "print(model.summary())"
   ]
  },
  {
   "cell_type": "code",
   "execution_count": 12,
   "metadata": {},
   "outputs": [
    {
     "name": "stdout",
     "output_type": "stream",
     "text": [
      "Epoch 1/50\n",
      "10/10 [==============================] - 0s - loss: 0.6909 - acc: 0.5000\n",
      "Epoch 2/50\n",
      "10/10 [==============================] - 0s - loss: 0.6896 - acc: 0.5000\n",
      "Epoch 3/50\n",
      "10/10 [==============================] - 0s - loss: 0.6882 - acc: 0.5000\n",
      "Epoch 4/50\n",
      "10/10 [==============================] - 0s - loss: 0.6869 - acc: 0.5000\n",
      "Epoch 5/50\n",
      "10/10 [==============================] - 0s - loss: 0.6855 - acc: 0.5000\n",
      "Epoch 6/50\n",
      "10/10 [==============================] - 0s - loss: 0.6842 - acc: 0.5000\n",
      "Epoch 7/50\n",
      "10/10 [==============================] - 0s - loss: 0.6829 - acc: 0.6000\n",
      "Epoch 8/50\n",
      "10/10 [==============================] - 0s - loss: 0.6815 - acc: 0.6000\n",
      "Epoch 9/50\n",
      "10/10 [==============================] - 0s - loss: 0.6802 - acc: 0.7000\n",
      "Epoch 10/50\n",
      "10/10 [==============================] - 0s - loss: 0.6788 - acc: 0.7000\n",
      "Epoch 11/50\n",
      "10/10 [==============================] - 0s - loss: 0.6775 - acc: 0.7000\n",
      "Epoch 12/50\n",
      "10/10 [==============================] - 0s - loss: 0.6761 - acc: 0.7000\n",
      "Epoch 13/50\n",
      "10/10 [==============================] - 0s - loss: 0.6748 - acc: 0.7000\n",
      "Epoch 14/50\n",
      "10/10 [==============================] - 0s - loss: 0.6734 - acc: 0.7000\n",
      "Epoch 15/50\n",
      "10/10 [==============================] - 0s - loss: 0.6721 - acc: 0.7000\n",
      "Epoch 16/50\n",
      "10/10 [==============================] - 0s - loss: 0.6707 - acc: 0.7000\n",
      "Epoch 17/50\n",
      "10/10 [==============================] - 0s - loss: 0.6693 - acc: 0.7000\n",
      "Epoch 18/50\n",
      "10/10 [==============================] - 0s - loss: 0.6679 - acc: 0.8000\n",
      "Epoch 19/50\n",
      "10/10 [==============================] - 0s - loss: 0.6666 - acc: 0.8000\n",
      "Epoch 20/50\n",
      "10/10 [==============================] - 0s - loss: 0.6652 - acc: 0.8000\n",
      "Epoch 21/50\n",
      "10/10 [==============================] - 0s - loss: 0.6638 - acc: 0.8000\n",
      "Epoch 22/50\n",
      "10/10 [==============================] - 0s - loss: 0.6624 - acc: 0.8000\n",
      "Epoch 23/50\n",
      "10/10 [==============================] - 0s - loss: 0.6610 - acc: 0.8000\n",
      "Epoch 24/50\n",
      "10/10 [==============================] - 0s - loss: 0.6595 - acc: 0.8000\n",
      "Epoch 25/50\n",
      "10/10 [==============================] - 0s - loss: 0.6581 - acc: 0.8000\n",
      "Epoch 26/50\n",
      "10/10 [==============================] - 0s - loss: 0.6567 - acc: 0.8000\n",
      "Epoch 27/50\n",
      "10/10 [==============================] - 0s - loss: 0.6552 - acc: 0.8000\n",
      "Epoch 28/50\n",
      "10/10 [==============================] - 0s - loss: 0.6538 - acc: 0.8000\n",
      "Epoch 29/50\n",
      "10/10 [==============================] - 0s - loss: 0.6523 - acc: 0.8000\n",
      "Epoch 30/50\n",
      "10/10 [==============================] - 0s - loss: 0.6508 - acc: 0.8000\n",
      "Epoch 31/50\n",
      "10/10 [==============================] - 0s - loss: 0.6494 - acc: 0.8000\n",
      "Epoch 32/50\n",
      "10/10 [==============================] - 0s - loss: 0.6479 - acc: 0.8000\n",
      "Epoch 33/50\n",
      "10/10 [==============================] - 0s - loss: 0.6464 - acc: 0.8000\n",
      "Epoch 34/50\n",
      "10/10 [==============================] - 0s - loss: 0.6449 - acc: 0.8000\n",
      "Epoch 35/50\n",
      "10/10 [==============================] - 0s - loss: 0.6434 - acc: 0.8000\n",
      "Epoch 36/50\n",
      "10/10 [==============================] - 0s - loss: 0.6418 - acc: 0.8000\n",
      "Epoch 37/50\n",
      "10/10 [==============================] - 0s - loss: 0.6403 - acc: 0.9000\n",
      "Epoch 38/50\n",
      "10/10 [==============================] - 0s - loss: 0.6387 - acc: 0.9000\n",
      "Epoch 39/50\n",
      "10/10 [==============================] - 0s - loss: 0.6372 - acc: 0.9000\n",
      "Epoch 40/50\n",
      "10/10 [==============================] - 0s - loss: 0.6356 - acc: 0.9000\n",
      "Epoch 41/50\n",
      "10/10 [==============================] - 0s - loss: 0.6341 - acc: 0.9000\n",
      "Epoch 42/50\n",
      "10/10 [==============================] - 0s - loss: 0.6325 - acc: 0.9000\n",
      "Epoch 43/50\n",
      "10/10 [==============================] - 0s - loss: 0.6309 - acc: 0.9000\n",
      "Epoch 44/50\n",
      "10/10 [==============================] - 0s - loss: 0.6293 - acc: 0.9000\n",
      "Epoch 45/50\n",
      "10/10 [==============================] - 0s - loss: 0.6277 - acc: 0.9000\n",
      "Epoch 46/50\n",
      "10/10 [==============================] - 0s - loss: 0.6261 - acc: 0.9000\n",
      "Epoch 47/50\n",
      "10/10 [==============================] - 0s - loss: 0.6245 - acc: 0.9000\n",
      "Epoch 48/50\n",
      "10/10 [==============================] - 0s - loss: 0.6228 - acc: 0.9000\n",
      "Epoch 49/50\n",
      "10/10 [==============================] - 0s - loss: 0.6212 - acc: 0.9000\n",
      "Epoch 50/50\n",
      "10/10 [==============================] - 0s - loss: 0.6195 - acc: 0.9000\n",
      "Accuracy: 89.999998\n"
     ]
    }
   ],
   "source": [
    "# fit the model\n",
    "model.fit(padded_docs, labels, epochs=50, verbose=1)\n",
    "# evaluate the model\n",
    "loss, accuracy = model.evaluate(padded_docs, labels, verbose=0)\n",
    "print('Accuracy: %f' % (accuracy*100))"
   ]
  },
  {
   "cell_type": "markdown",
   "metadata": {},
   "source": [
    "### Word2Vec"
   ]
  },
  {
   "cell_type": "code",
   "execution_count": null,
   "metadata": {
    "collapsed": true
   },
   "outputs": [],
   "source": [
    "from gensim.models import Word2Vec"
   ]
  },
  {
   "cell_type": "code",
   "execution_count": null,
   "metadata": {
    "collapsed": true
   },
   "outputs": [],
   "source": [
    "model = Word2Vec.load_word2vec_format('GoogleNews-vectors-negative300.bin', binary=True, norm_only=True)\n",
    "# getting word vectors of a word\n",
    "dog = model['dog']\n",
    "#performing king queen magic\n",
    "print(model.most_similar(positive=['woman', 'king'], negative=['man']))\n",
    "\n",
    "#picking odd one out\n",
    "print(model.doesnt_match(\"breakfast cereal dinner lunch\".split()))\n",
    "\n",
    "#printing similarity index\n",
    "print(model.similarity('woman', 'man'))"
   ]
  },
  {
   "cell_type": "code",
   "execution_count": null,
   "metadata": {
    "collapsed": true
   },
   "outputs": [],
   "source": [
    "sentence=[[‘Neeraj’,’Boy’],[‘Sarwan’,’is’],[‘good’,’boy’]]\n",
    "model = gensim.models.Word2Vec(sentence, min_count=1,size=300,workers=4)\n",
    "print(model.similarity('woman', 'man'))"
   ]
  }
 ],
 "metadata": {
  "kernelspec": {
   "display_name": "Python 3",
   "language": "python",
   "name": "python3"
  },
  "language_info": {
   "codemirror_mode": {
    "name": "ipython",
    "version": 3
   },
   "file_extension": ".py",
   "mimetype": "text/x-python",
   "name": "python",
   "nbconvert_exporter": "python",
   "pygments_lexer": "ipython3",
   "version": "3.6.3"
  }
 },
 "nbformat": 4,
 "nbformat_minor": 2
}
